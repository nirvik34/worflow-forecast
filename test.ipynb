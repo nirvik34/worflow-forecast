{
 "cells": [
  {
   "cell_type": "code",
   "execution_count": 69,
   "id": "b8fd6b35",
   "metadata": {},
   "outputs": [],
   "source": [
    "import pandas as pd\n",
    "import numpy as np\n",
    "from tensorflow.keras.models import load_model\n",
    "import joblib\n",
    "from datetime import datetime, timedelta\n",
    "import copy\n",
    "import ipywidgets as widgets\n",
    "from IPython.display import display"
   ]
  },
  {
   "cell_type": "code",
   "execution_count": 70,
   "id": "5dfecc53",
   "metadata": {},
   "outputs": [],
   "source": [
    "df = pd.read_csv(\"data/dataset2.csv\")\n",
    "df[\"date\"] = pd.to_datetime(df[\"date\"])\n"
   ]
  },
  {
   "cell_type": "code",
   "execution_count": null,
   "id": "ca49aac9",
   "metadata": {},
   "outputs": [],
   "source": [
    "model = load_model('./model/model.keras', compile=False)\n",
    "model.compile(optimizer='adam', loss='mse')\n",
    "scaler_X = joblib.load('./model/scaler_X.pkl')\n",
    "scaler_y = joblib.load('./model/scaler_y.pkl')\n",
    "# Compatibility aliases (some cells use camelCase names)\n",
    "scalerX = scaler_X\n",
    "scalerY = scaler_y\n",
    "encoder = joblib.load('./model/encoder.pkl')"
   ]
  },
  {
   "cell_type": "code",
   "execution_count": null,
   "id": "c53f5138",
   "metadata": {},
   "outputs": [],
   "source": [
    "def predict_future_cases_safe(problem_type, target_date_str, df, model, scalerX, scalerY, encoder, sequence_length=30):\n",
    "    \"\"\"Wrapper around predict_future_cases that returns a structured error dict on failure.\"\"\"\n",
    "    try:\n",
    "        # Ensure the main function is available (cells may be run out of order)\n",
    "        func = globals().get('predict_future_cases')\n",
    "        if func is None:\n",
    "            raise NameError('predict_future_cases is not defined. Run the cell that defines it before calling this wrapper.')\n",
    "        return func(problem_type, target_date_str, df, model, scalerX, scalerY, encoder, sequence_length)\n",
    "    except Exception as e:\n",
    "        # Return a consistent dict so UI code can handle failures gracefully\n",
    "        return {\n",
    "            'error': str(e),\n",
    "            'predicted_date': None,\n",
    "            'problem_type': problem_type,\n",
    "            'predicted_cases': None,\n",
    "            'predicted_workforce': None\n",
    "        }\n"
   ]
  },
  {
   "cell_type": "code",
   "execution_count": null,
   "id": "742a89e6",
   "metadata": {},
   "outputs": [
    {
     "data": {
      "application/vnd.jupyter.widget-view+json": {
       "model_id": "c2af4eb294054a5c96fe44dffb9686f2",
       "version_major": 2,
       "version_minor": 0
      },
      "text/plain": [
       "Dropdown(description='Problem Type:', options=('Drainage', 'Electricity', 'Garbage & Waste', 'Others', 'Pothol…"
      ]
     },
     "metadata": {},
     "output_type": "display_data"
    },
    {
     "data": {
      "application/vnd.jupyter.widget-view+json": {
       "model_id": "f8ccdc0572a04d4383811610d4aa7148",
       "version_major": 2,
       "version_minor": 0
      },
      "text/plain": [
       "DatePicker(value=None, description='Select Date:', max=datetime.date(2025, 10, 20), min=datetime.date(2025, 9,…"
      ]
     },
     "metadata": {},
     "output_type": "display_data"
    },
    {
     "data": {
      "application/vnd.jupyter.widget-view+json": {
       "model_id": "1522261646784f60beee343e502bf56c",
       "version_major": 2,
       "version_minor": 0
      },
      "text/plain": [
       "Button(description='Predict', style=ButtonStyle())"
      ]
     },
     "metadata": {},
     "output_type": "display_data"
    },
    {
     "data": {
      "application/vnd.jupyter.widget-view+json": {
       "model_id": "16e4a689c10c42a5a89ef5211b6d8f86",
       "version_major": 2,
       "version_minor": 0
      },
      "text/plain": [
       "Output()"
      ]
     },
     "metadata": {},
     "output_type": "display_data"
    }
   ],
   "source": [
    "problem_dropdown = widgets.Dropdown(\n",
    "    options=df['problem_type'].unique().tolist(),\n",
    "    description='Problem Type:',\n",
    "    style={'description_width': 'initial'}\n",
    ")\n",
    "\n",
    "today = datetime.today().date()\n",
    "max_date = today + timedelta(days=30)\n",
    "\n",
    "date_picker = widgets.DatePicker(\n",
    "    description='Select Date:',\n",
    "    disabled=False,\n",
    "    min=today + timedelta(days=1),\n",
    "    max=max_date\n",
    ")\n",
    "\n",
    "output = widgets.Output()\n",
    "\n",
    "def on_button_click(b):\n",
    "    with output:\n",
    "        output.clear_output()\n",
    "        if date_picker.value is None:\n",
    "            print(\"Please select a valid date.\")\n",
    "            return\n",
    "        try:\n",
    "            result = predict_future_cases_safe(\n",
    "                problem_dropdown.value,\n",
    "                date_picker.value.strftime('%Y-%m-%d'),\n",
    "                df, model, scalerX, scalerY, encoder\n",
    "            )\n",
    "            if isinstance(result, dict) and result.get('error'):\n",
    "                print(f\"Error: {result['error']}\")\n",
    "            else:\n",
    "                print(\"=== Future Prediction ===\")\n",
    "                print(f\"Date: {result['predicted_date']}\")\n",
    "                print(f\"Problem Type: {result['problem_type']}\")\n",
    "                print(f\"Predicted Reported Cases: {result['predicted_cases']}\")\n",
    "                print(f\"Predicted Workforce Required: {result['predicted_workforce']}\")\n",
    "        except Exception as e:\n",
    "            print(f\"Error: {e}\")\n",
    "\n",
    "predict_button = widgets.Button(description=\"Predict\")\n",
    "predict_button.on_click(on_button_click)\n",
    "\n",
    "display(problem_dropdown, date_picker, predict_button, output)"
   ]
  },
  {
   "cell_type": "code",
   "execution_count": 85,
   "id": "617f6c3c",
   "metadata": {},
   "outputs": [
    {
     "name": "stdout",
     "output_type": "stream",
     "text": [
      "Error: Prediction failed: target date 2025-09-30 not in sequence.\n"
     ]
    }
   ],
   "source": [
    "import pandas as pd\n",
    "import numpy as np\n",
    "from tensorflow.keras.models import load_model\n",
    "import joblib\n",
    "from datetime import datetime, timedelta\n",
    "import copy\n",
    "\n",
    "df = pd.read_csv(\"data/dataset2.csv\")\n",
    "df[\"date\"] = pd.to_datetime(df[\"date\"])\n",
    "\n",
    "model = load_model(\"model/model.keras\", compile=False)\n",
    "model.compile(optimizer=\"adam\", loss=\"mse\")\n",
    "scalerX = joblib.load(\"model/scaler_X.pkl\")\n",
    "scalerY = joblib.load(\"model/scaler_Y.pkl\")\n",
    "encoder = joblib.load(\"model/encoder.pkl\")\n",
    "\n",
    "def predict_future_cases(\n",
    "    problemtype, targetdatestr, df, model, scalerX, scalerY, encoder, sequence_length=30\n",
    "):\n",
    "    problemtype_input = problemtype.strip().title()\n",
    "    try:\n",
    "        targetdate = pd.Timestamp(targetdatestr)\n",
    "    except:\n",
    "        raise ValueError(\"Invalid date format. Use YYYY-MM-DD.\")\n",
    "    today = pd.Timestamp(datetime.today().date())\n",
    "    if targetdate <= today:\n",
    "        raise ValueError(\"Target date must be in the future from today.\")\n",
    "    if targetdate > today + pd.Timedelta(days=30):\n",
    "        raise ValueError(\"Target date exceeds 30-day prediction window.\")\n",
    "\n",
    "    subset = df[df[\"problem_type\"] == problemtype_input].sort_values(\"date\")\n",
    "    if subset.empty:\n",
    "        raise ValueError(f\"No data found for problem_type '{problemtype_input}'\")\n",
    "\n",
    "    # Prepare sequence, pad if not enough data\n",
    "    seq = subset.tail(sequence_length).copy().reset_index(drop=True)\n",
    "    if len(seq) < sequence_length:\n",
    "        lastrow = seq.iloc[-1]\n",
    "        for _ in range(sequence_length - len(seq)):\n",
    "            seq = pd.concat([seq, pd.DataFrame([lastrow])], ignore_index=True)\n",
    "\n",
    "    lastdate = seq[\"date\"].max()\n",
    "\n",
    "    while lastdate < targetdate:\n",
    "        lastseq = seq.tail(sequence_length).copy()\n",
    "        nextdate = lastdate + pd.Timedelta(days=1)\n",
    "        newrow = lastseq.iloc[-1].copy()\n",
    "\n",
    "        # Update dynamic features for realism\n",
    "        newrow[\"date\"] = nextdate\n",
    "        newrow[\"day_of_week\"] = nextdate.weekday()\n",
    "        newrow[\"is_weekend\"] = int(nextdate.weekday() >= 5)\n",
    "        newrow[\"month\"] = nextdate.month\n",
    "        newrow[\"holiday_flag\"] = 0  # or your holiday logic\n",
    "        newrow[\"prev_day_cases\"] = lastseq[\"reported_cases\"].iloc[-1]\n",
    "        newrow[\"prev_3day_avg_cases\"] = lastseq[\"reported_cases\"].tail(3).mean()\n",
    "\n",
    "        newrow[\"severity_score\"] = max(\n",
    "            1, min(4, lastseq[\"severity_score\"].iloc[-1] + np.random.randint(-1, 2))\n",
    "        )\n",
    "        newrow[\"weather_score\"] = max(\n",
    "            0, min(1, lastseq[\"weather_score\"].iloc[-1] + np.random.normal(0, 0.05))\n",
    "        )\n",
    "        newrow[\"rainfall_mm\"] = max(\n",
    "            0, lastseq[\"rainfall_mm\"].iloc[-1] + np.random.normal(0, 2)\n",
    "        )\n",
    "        newrow[\"problem_severity_interaction\"] = max(\n",
    "            1,\n",
    "            lastseq[\"problem_severity_interaction\"].iloc[-1] + np.random.randint(-1, 2),\n",
    "        )\n",
    "\n",
    "        # Prepare model input\n",
    "        Xseq = lastseq.drop(\n",
    "            columns=[\"date\", \"reported_cases\", \"workforce_required\"]\n",
    "        )\n",
    "        cat_encoded = encoder.transform(Xseq[[\"problem_type\", \"region\"]])\n",
    "        catdf = pd.DataFrame(cat_encoded, columns=encoder.get_feature_names_out([\"problem_type\", \"region\"]))\n",
    "        Xseq = pd.concat([Xseq.drop(columns=[\"problem_type\", \"region\"]), catdf], axis=1)\n",
    "        X_scaled = scalerX.transform(Xseq)\n",
    "        X_input = np.array([X_scaled])\n",
    "\n",
    "        y_pred_scaled = model.predict(X_input, verbose=0)\n",
    "        predictedcases = scalerY.inverse_transform(y_pred_scaled)[0, 0]\n",
    "\n",
    "        severityfactor = {1: 1, 2: 1.5, 3: 2, 4: 3}\n",
    "        predictedworkforce = int(predictedcases * severityfactor[int(newrow[\"severity_score\"])])\n",
    "\n",
    "        newrow[\"reported_cases\"] = predictedcases\n",
    "        newrow[\"workforce_required\"] = predictedworkforce\n",
    "        seq = pd.concat([seq, pd.DataFrame([newrow])], ignore_index=True)\n",
    "        lastdate = nextdate\n",
    "\n",
    "    # Safely retrieve target row (avoid out-of-bounds errors)\n",
    "    target_row_df = seq[seq[\"date\"] == targetdate]\n",
    "    if target_row_df.empty:\n",
    "        # If exact date not present (rare), take last available row before targetdate\n",
    "        target_row_df = seq[seq[\"date\"] <= targetdate]\n",
    "        if target_row_df.empty:\n",
    "            raise ValueError(f\"Prediction failed: target date {targetdate.strftime('%Y-%m-%d')} not in sequence.\")\n",
    "        target_row = target_row_df.iloc[-1]\n",
    "    else:\n",
    "        target_row = target_row_df.iloc[-1]\n",
    "\n",
    "    return {\n",
    "        \"predicted_date\": target_row[\"date\"].strftime(\"%Y-%m-%d\"),\n",
    "        \"problem_type\": problemtype_input,\n",
    "        \"predicted_cases\": round(target_row[\"reported_cases\"], 1),\n",
    "        \"predicted_workforce\": int(target_row[\"workforce_required\"])\n",
    "    }\n",
    "\n",
    "\n",
    "if __name__ == \"__main__\":\n",
    "    problemtype = input(\"Enter problem type: \")  # e.g., \"Garbage & Waste\"\n",
    "    targetdatestr = input(\"Enter target future date (YYYY-MM-DD): \")  # e.g., \"2025-12-31\"\n",
    "    try:\n",
    "        res = predict_future_cases(\n",
    "            problemtype,\n",
    "            targetdatestr,\n",
    "            df,\n",
    "            model,\n",
    "            scalerX,\n",
    "            scalerY,\n",
    "            encoder,\n",
    "            sequence_length=30\n",
    "        )\n",
    "        print(res)\n",
    "    except Exception as e:\n",
    "        print(f\"Error: {e}\")\n"
   ]
  }
 ],
 "metadata": {
  "kernelspec": {
   "display_name": "myvenv",
   "language": "python",
   "name": "python3"
  },
  "language_info": {
   "codemirror_mode": {
    "name": "ipython",
    "version": 3
   },
   "file_extension": ".py",
   "mimetype": "text/x-python",
   "name": "python",
   "nbconvert_exporter": "python",
   "pygments_lexer": "ipython3",
   "version": "3.12.3"
  }
 },
 "nbformat": 4,
 "nbformat_minor": 5
}
