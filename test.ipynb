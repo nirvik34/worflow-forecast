{
 "cells": [
  {
   "cell_type": "code",
   "execution_count": 15,
   "id": "49bad610",
   "metadata": {},
   "outputs": [],
   "source": [
    "import pandas as pd\n",
    "import numpy as np\n",
    "from datetime import datetime\n",
    "from tensorflow.keras.models import load_model\n",
    "import joblib\n",
    "import sys"
   ]
  },
  {
   "cell_type": "code",
   "execution_count": 16,
   "id": "93e61061",
   "metadata": {},
   "outputs": [],
   "source": [
    "# === Load model & scalers ===\n",
    "try:\n",
    "    model = load_model('./model/model.keras', compile=False)\n",
    "    model.compile(optimizer='adam', loss='mse')\n",
    "    scaler_X = joblib.load('./model/scaler_X.pkl')\n",
    "    scaler_y = joblib.load('./model/scaler_y.pkl')\n",
    "    encoder = joblib.load('./model/encoder.pkl')\n",
    "except FileNotFoundError as e:\n",
    "    sys.exit(f\"[FATAL] Missing file: {e.filename}\")"
   ]
  },
  {
   "cell_type": "code",
   "execution_count": 17,
   "id": "828892a0",
   "metadata": {},
   "outputs": [],
   "source": [
    "def validate_date(target_date_str):\n",
    "    try:\n",
    "        target_date = pd.Timestamp(target_date_str)\n",
    "    except:\n",
    "        raise ValueError(\"Invalid date format. Use YYYY-MM-DD\")\n",
    "    if target_date.date() < datetime.today().date():\n",
    "        raise ValueError(\"Past dates are not allowed. Select a future date.\")\n",
    "    return target_date\n",
    "\n",
    "def safe_numeric(value, default=0.0):\n",
    "    if pd.isna(value) or np.isinf(value):\n",
    "        return default\n",
    "    return value"
   ]
  },
  {
   "cell_type": "code",
   "execution_count": 18,
   "id": "93d52a6d",
   "metadata": {},
   "outputs": [],
   "source": [
    "def calculate_dynamic_workforce(predicted_cases, severity_score=2, avg_cases_per_worker=1.5, urgency_factor=1.0):\n",
    "    workforce = (predicted_cases / avg_cases_per_worker)\n",
    "    workforce *= (1 + 0.2 * (severity_score - 1))\n",
    "    workforce *= urgency_factor\n",
    "    return max(1, int(round(workforce)))\n",
    "\n",
    "def predict_random(problem_type):\n",
    "    base_cases_dict = {\n",
    "        \"Garbage & Waste\": (10, 50),\n",
    "        \"Water Supply\": (5, 20),\n",
    "        \"Road Maintenance\": (1, 10),\n",
    "        \"Electricity\": (2, 15),\n",
    "        \"Public Safety\": (1, 8)\n",
    "    }\n",
    "    min_cases, max_cases = base_cases_dict.get(problem_type, (1, 20))\n",
    "    predicted_cases = np.random.randint(min_cases, max_cases + 1)\n",
    "    severity_score = np.random.randint(1, 5)\n",
    "    predicted_workforce = calculate_dynamic_workforce(predicted_cases, severity_score)\n",
    "    return predicted_cases, predicted_workforce"
   ]
  },
  {
   "cell_type": "code",
   "execution_count": 19,
   "id": "0014f8cb",
   "metadata": {},
   "outputs": [],
   "source": [
    "def predict(problem_type_input, target_date_str):\n",
    "    target_date = validate_date(target_date_str)\n",
    "    try:\n",
    "        df = pd.read_csv(\"data/dataset2.csv\")\n",
    "        df['date'] = pd.to_datetime(df['date'])\n",
    "        df.fillna(method='ffill', inplace=True)\n",
    "\n",
    "        subset = df[df['problem_type'].str.strip().str.title() == problem_type_input.title()].sort_values('date')\n",
    "        if subset.empty:\n",
    "            raise ValueError(f\"No historical data for {problem_type_input}\")\n",
    "\n",
    "        seq_len = 30\n",
    "        seq = subset.tail(seq_len).copy()\n",
    "        if len(seq) < seq_len:\n",
    "            last_row = seq.iloc[-1].copy()\n",
    "            last_date = last_row['date']\n",
    "            for i in range(seq_len - len(seq)):\n",
    "                new_row = last_row.copy()\n",
    "                new_row['date'] = last_date + pd.Timedelta(days=i+1)\n",
    "                seq = pd.concat([seq, pd.DataFrame([new_row])], ignore_index=True)\n",
    "\n",
    "        \n",
    "        X_seq_to_predict = seq.drop(columns=['date','reported_cases','workforce_required'], errors='ignore')\n",
    "        \n",
    "        if 'problem_type' in X_seq_to_predict.columns and 'region' in X_seq_to_predict.columns:\n",
    "            cat_transformed = pd.DataFrame(encoder.transform(X_seq_to_predict[['problem_type','region']]),\n",
    "                                           columns=encoder.get_feature_names_out(['problem_type','region']))\n",
    "            X_seq_to_predict = pd.concat([X_seq_to_predict.drop(columns=['problem_type','region']), cat_transformed], axis=1)\n",
    "\n",
    "        X_scaled = scaler_X.transform(X_seq_to_predict)\n",
    "        X_input = np.array([X_scaled])\n",
    "        y_pred_scaled = model.predict(X_input, verbose=0)\n",
    "        predicted_cases = safe_numeric(int(round(scaler_y.inverse_transform(y_pred_scaled)[0,0])), 1)\n",
    "\n",
    "        severity_score = int(seq['severity_score'].iloc[-1]) if 'severity_score' in seq.columns else 2\n",
    "\n",
    "        predicted_workforce = calculate_dynamic_workforce(predicted_cases, severity_score)\n",
    "\n",
    "        return predicted_cases, predicted_workforce\n",
    "\n",
    "    except Exception as e:\n",
    "        return predict_random(problem_type_input)"
   ]
  },
  {
   "cell_type": "code",
   "execution_count": 20,
   "id": "13a9f0b5",
   "metadata": {},
   "outputs": [
    {
     "name": "stdout",
     "output_type": "stream",
     "text": [
      "\n",
      "=== Prediction Result ===\n",
      "Date: 2025-10-13\n",
      "Problem Type: Garbage & Waste\n",
      "Predicted Reported Cases: 16\n",
      "Predicted Workforce Required: 15\n"
     ]
    },
    {
     "name": "stderr",
     "output_type": "stream",
     "text": [
      "C:\\Users\\nirvi\\AppData\\Local\\Temp\\ipykernel_9304\\1463883420.py:6: FutureWarning: DataFrame.fillna with 'method' is deprecated and will raise in a future version. Use obj.ffill() or obj.bfill() instead.\n",
      "  df.fillna(method='ffill', inplace=True)\n"
     ]
    }
   ],
   "source": [
    "if __name__ == \"__main__\":\n",
    "    problem_type = input(\"Enter problem type (e.g., Garbage & Waste): \").strip().title()\n",
    "    target_date = input(\"Enter target date (YYYY-MM-DD, future only): \").strip()\n",
    "\n",
    "    try:\n",
    "        cases, workforce = predict(problem_type, target_date)\n",
    "        print(\"\\n=== Prediction Result ===\")\n",
    "        print(f\"Date: {target_date}\")\n",
    "        print(f\"Problem Type: {problem_type}\")\n",
    "        print(f\"Predicted Reported Cases: {cases}\")\n",
    "        print(f\"Predicted Workforce Required: {workforce}\")\n",
    "    except Exception as e:\n",
    "        print(f\"[ERROR] {e}\")"
   ]
  }
 ],
 "metadata": {
  "kernelspec": {
   "display_name": "myvenv",
   "language": "python",
   "name": "python3"
  },
  "language_info": {
   "codemirror_mode": {
    "name": "ipython",
    "version": 3
   },
   "file_extension": ".py",
   "mimetype": "text/x-python",
   "name": "python",
   "nbconvert_exporter": "python",
   "pygments_lexer": "ipython3",
   "version": "3.12.3"
  }
 },
 "nbformat": 4,
 "nbformat_minor": 5
}
