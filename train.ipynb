{
  "cells": [
    {
      "cell_type": "code",
      "execution_count": 12,
      "metadata": {
        "id": "obRqXFrtdqoH"
      },
      "outputs": [],
      "source": [
        "import pandas as pd\n",
        "import numpy as np\n",
        "from sklearn.preprocessing import StandardScaler, OneHotEncoder\n",
        "from sklearn.model_selection import train_test_split\n",
        "from tensorflow.keras.models import Sequential\n",
        "from tensorflow.keras.layers import LSTM, Dense, Dropout\n",
        "from tensorflow.keras.callbacks import EarlyStopping\n",
        "import joblib\n",
        "from datetime import datetime, timedelta\n",
        "import copy"
      ]
    },
    {
      "cell_type": "code",
      "execution_count": 13,
      "metadata": {
        "id": "3CA8d3yWf7Y5"
      },
      "outputs": [
        {
          "name": "stderr",
          "output_type": "stream",
          "text": [
            "C:\\Users\\nirvi\\AppData\\Local\\Temp\\ipykernel_25408\\3904924413.py:3: FutureWarning: DataFrame.fillna with 'method' is deprecated and will raise in a future version. Use obj.ffill() or obj.bfill() instead.\n",
            "  df.fillna(method='ffill', inplace=True)\n"
          ]
        }
      ],
      "source": [
        "df = pd.read_csv(\"data/dataset2.csv\")\n",
        "df[\"date\"] = pd.to_datetime(df[\"date\"])\n",
        "df.fillna(method='ffill', inplace=True)"
      ]
    },
    {
      "cell_type": "code",
      "execution_count": 14,
      "metadata": {},
      "outputs": [],
      "source": [
        "df['day_of_week'] = df['date'].dt.weekday\n",
        "df['is_weekend'] = df['day_of_week'].apply(lambda x: 1 if x >= 5 else 0)\n",
        "df['month'] = df['date'].dt.month\n",
        "df['prev_day_cases'] = df.groupby('problem_type')['reported_cases'].shift(1).fillna(0)\n",
        "df['prev_3day_avg_cases'] = df.groupby('problem_type')['reported_cases'].rolling(3, min_periods=1).mean().reset_index(0, drop=True)\n",
        "df['problem_severity_interaction'] = df['severity_score'] * df['prev_day_cases']"
      ]
    },
    {
      "cell_type": "code",
      "execution_count": 15,
      "metadata": {
        "id": "0NnexS7egdn-"
      },
      "outputs": [],
      "source": [
        "categorical_cols = ['problem_type','region']\n",
        "encoder = OneHotEncoder(sparse_output=False, handle_unknown='ignore')\n",
        "cat_encoded = encoder.fit_transform(df[categorical_cols])\n",
        "cat_encoded_df = pd.DataFrame(cat_encoded, columns=encoder.get_feature_names_out(categorical_cols))\n",
        "df = pd.concat([df.reset_index(drop=True), cat_encoded_df], axis=1)\n",
        "df = df.drop(columns=categorical_cols)"
      ]
    },
    {
      "cell_type": "code",
      "execution_count": 6,
      "metadata": {
        "id": "oOqN2uhBgzAn"
      },
      "outputs": [],
      "source": [
        "numerical_features = [\n",
        "    'severity_score','day_of_week','is_weekend','month','holiday_flag',\n",
        "    'prev_day_cases','prev_3day_avg_cases','weather_score','rainfall_mm','problem_severity_interaction'\n",
        "]"
      ]
    },
    {
      "cell_type": "code",
      "execution_count": 7,
      "metadata": {
        "id": "L3ZQTmy9g1jJ"
      },
      "outputs": [],
      "source": [
        "features = numerical_features + list(cat_encoded_df.columns)\n",
        "target = 'reported_cases'"
      ]
    },
    {
      "cell_type": "code",
      "execution_count": 16,
      "metadata": {
        "id": "3FsXvNqJg31Y"
      },
      "outputs": [],
      "source": [
        "scaler_X = StandardScaler()\n",
        "X_scaled = scaler_X.fit_transform(df[features])\n",
        "\n",
        "scaler_y = StandardScaler()\n",
        "y_scaled = scaler_y.fit_transform(df[[target]])"
      ]
    },
    {
      "cell_type": "code",
      "execution_count": 9,
      "metadata": {
        "id": "n32a-GS8g6NO"
      },
      "outputs": [],
      "source": [
        "sequence_length = 30\n",
        "X_seq, y_seq = [], []\n",
        "for i in range(sequence_length, len(X_scaled)):\n",
        "    X_seq.append(X_scaled[i-sequence_length:i])\n",
        "    y_seq.append(y_scaled[i])\n",
        "X_seq, y_seq = np.array(X_seq), np.array(y_seq)"
      ]
    },
    {
      "cell_type": "code",
      "execution_count": 18,
      "metadata": {
        "colab": {
          "base_uri": "https://localhost:8080/"
        },
        "id": "5LHi5AbPg9oq",
        "outputId": "5893ecb9-250e-44b1-e413-e35419d7e390"
      },
      "outputs": [],
      "source": [
        "split_idx = int(0.8 * len(X_seq))\n",
        "X_train, X_test = X_seq[:split_idx], X_seq[split_idx:]\n",
        "y_train, y_test = y_seq[:split_idx], y_seq[split_idx:]\n"
      ]
    },
    {
      "cell_type": "code",
      "execution_count": 19,
      "metadata": {},
      "outputs": [],
      "source": [
        "model = Sequential()\n",
        "model.add(LSTM(128, input_shape=(X_train.shape[1], X_train.shape[2]), return_sequences=True))\n",
        "model.add(Dropout(0.2))\n",
        "model.add(LSTM(64, return_sequences=False))\n",
        "model.add(Dropout(0.2))\n",
        "model.add(Dense(1))\n",
        "\n",
        "model.compile(optimizer='adam', loss='mse')\n",
        "early_stop = EarlyStopping(monitor='val_loss', patience=5, restore_best_weights=True)\n"
      ]
    },
    {
      "cell_type": "code",
      "execution_count": 20,
      "metadata": {},
      "outputs": [
        {
          "name": "stdout",
          "output_type": "stream",
          "text": [
            "Epoch 1/50\n",
            "\u001b[1m1250/1250\u001b[0m \u001b[32m━━━━━━━━━━━━━━━━━━━━\u001b[0m\u001b[37m\u001b[0m \u001b[1m163s\u001b[0m 126ms/step - loss: 0.4204 - val_loss: 1.1603\n",
            "Epoch 2/50\n",
            "\u001b[1m1250/1250\u001b[0m \u001b[32m━━━━━━━━━━━━━━━━━━━━\u001b[0m\u001b[37m\u001b[0m \u001b[1m157s\u001b[0m 125ms/step - loss: 0.4121 - val_loss: 2.1449\n",
            "Epoch 3/50\n",
            "\u001b[1m1250/1250\u001b[0m \u001b[32m━━━━━━━━━━━━━━━━━━━━\u001b[0m\u001b[37m\u001b[0m \u001b[1m160s\u001b[0m 128ms/step - loss: 0.4108 - val_loss: 1.7262\n",
            "Epoch 4/50\n",
            "\u001b[1m1250/1250\u001b[0m \u001b[32m━━━━━━━━━━━━━━━━━━━━\u001b[0m\u001b[37m\u001b[0m \u001b[1m144s\u001b[0m 115ms/step - loss: 0.4098 - val_loss: 1.8178\n",
            "Epoch 5/50\n",
            "\u001b[1m1250/1250\u001b[0m \u001b[32m━━━━━━━━━━━━━━━━━━━━\u001b[0m\u001b[37m\u001b[0m \u001b[1m137s\u001b[0m 110ms/step - loss: 0.4081 - val_loss: 3.8900\n",
            "Epoch 6/50\n",
            "\u001b[1m1250/1250\u001b[0m \u001b[32m━━━━━━━━━━━━━━━━━━━━\u001b[0m\u001b[37m\u001b[0m \u001b[1m140s\u001b[0m 112ms/step - loss: 0.4086 - val_loss: 3.3043\n"
          ]
        }
      ],
      "source": [
        "history = model.fit(\n",
        "    X_train, y_train,\n",
        "    validation_data=(X_test, y_test),\n",
        "    epochs=50,\n",
        "    batch_size=64,\n",
        "    callbacks=[early_stop]\n",
        ")"
      ]
    },
    {
      "cell_type": "code",
      "execution_count": 21,
      "metadata": {
        "colab": {
          "base_uri": "https://localhost:8080/"
        },
        "id": "E6SiqHOGhAs6",
        "outputId": "41bb877d-ec4d-436a-ac23-50620ef0daea"
      },
      "outputs": [
        {
          "data": {
            "text/plain": [
              "['./model/encoder.pkl']"
            ]
          },
          "execution_count": 21,
          "metadata": {},
          "output_type": "execute_result"
        }
      ],
      "source": [
        "model.save('./model/model.keras')\n",
        "joblib.dump(scaler_X, './model/scaler_X.pkl')\n",
        "joblib.dump(scaler_y, './model/scaler_y.pkl')\n",
        "joblib.dump(encoder, './model/encoder.pkl')"
      ]
    }
  ],
  "metadata": {
    "colab": {
      "provenance": []
    },
    "kernelspec": {
      "display_name": "myvenv",
      "language": "python",
      "name": "python3"
    },
    "language_info": {
      "codemirror_mode": {
        "name": "ipython",
        "version": 3
      },
      "file_extension": ".py",
      "mimetype": "text/x-python",
      "name": "python",
      "nbconvert_exporter": "python",
      "pygments_lexer": "ipython3",
      "version": "3.12.3"
    }
  },
  "nbformat": 4,
  "nbformat_minor": 0
}
